{
 "cells": [
  {
   "cell_type": "markdown",
   "metadata": {},
   "source": [
    "In this notebook, we are loading an existing model and features saved from unlabeled data from a single folder. Using these features we let the model make predictions for each image. Finally, we save the predictions to csv and json files."
   ]
  },
  {
   "cell_type": "code",
   "execution_count": 1,
   "metadata": {
    "ExecuteTime": {
     "end_time": "2024-06-11T14:03:21.388265Z",
     "start_time": "2024-06-11T14:03:16.392684Z"
    }
   },
   "outputs": [
    {
     "name": "stderr",
     "output_type": "stream",
     "text": [
      "2024-06-11 15:12:11.274518: E external/local_xla/xla/stream_executor/cuda/cuda_dnn.cc:9261] Unable to register cuDNN factory: Attempting to register factory for plugin cuDNN when one has already been registered\n",
      "2024-06-11 15:12:11.274577: E external/local_xla/xla/stream_executor/cuda/cuda_fft.cc:607] Unable to register cuFFT factory: Attempting to register factory for plugin cuFFT when one has already been registered\n",
      "2024-06-11 15:12:11.275584: E external/local_xla/xla/stream_executor/cuda/cuda_blas.cc:1515] Unable to register cuBLAS factory: Attempting to register factory for plugin cuBLAS when one has already been registered\n",
      "2024-06-11 15:12:11.280637: I tensorflow/core/platform/cpu_feature_guard.cc:182] This TensorFlow binary is optimized to use available CPU instructions in performance-critical operations.\n",
      "To enable the following instructions: AVX2 FMA, in other operations, rebuild TensorFlow with the appropriate compiler flags.\n",
      "2024-06-11 15:12:11.881882: W tensorflow/compiler/tf2tensorrt/utils/py_utils.cc:38] TF-TRT Warning: Could not find TensorRT\n"
     ]
    }
   ],
   "source": [
    "import numpy as np\n",
    "import pandas as pd\n",
    "from pandas import DataFrame as df\n",
    "import tensorflow as tf"
   ]
  },
  {
   "cell_type": "markdown",
   "metadata": {},
   "source": [
    "### Load validation set in tensorflow format"
   ]
  },
  {
   "cell_type": "code",
   "execution_count": 2,
   "metadata": {},
   "outputs": [
    {
     "name": "stdout",
     "output_type": "stream",
     "text": [
      "Loaded 22464 instances from ../new_data_2023/ai/predictions.pk.\n",
      "X shape (22464, 512) and y shape (22464,) with labels:\n",
      "y\n",
      "Complex AI    22464\n",
      "Name: count, dtype: int64.\n"
     ]
    },
    {
     "name": "stderr",
     "output_type": "stream",
     "text": [
      "2024-06-11 15:12:14.596387: I external/local_xla/xla/stream_executor/cuda/cuda_executor.cc:887] could not open file to read NUMA node: /sys/bus/pci/devices/0000:01:00.0/numa_node\n",
      "Your kernel may have been built without NUMA support.\n",
      "2024-06-11 15:12:14.634468: I external/local_xla/xla/stream_executor/cuda/cuda_executor.cc:887] could not open file to read NUMA node: /sys/bus/pci/devices/0000:01:00.0/numa_node\n",
      "Your kernel may have been built without NUMA support.\n",
      "2024-06-11 15:12:14.634543: I external/local_xla/xla/stream_executor/cuda/cuda_executor.cc:887] could not open file to read NUMA node: /sys/bus/pci/devices/0000:01:00.0/numa_node\n",
      "Your kernel may have been built without NUMA support.\n",
      "2024-06-11 15:12:14.640124: I external/local_xla/xla/stream_executor/cuda/cuda_executor.cc:887] could not open file to read NUMA node: /sys/bus/pci/devices/0000:01:00.0/numa_node\n",
      "Your kernel may have been built without NUMA support.\n",
      "2024-06-11 15:12:14.640190: I external/local_xla/xla/stream_executor/cuda/cuda_executor.cc:887] could not open file to read NUMA node: /sys/bus/pci/devices/0000:01:00.0/numa_node\n",
      "Your kernel may have been built without NUMA support.\n",
      "2024-06-11 15:12:14.640231: I external/local_xla/xla/stream_executor/cuda/cuda_executor.cc:887] could not open file to read NUMA node: /sys/bus/pci/devices/0000:01:00.0/numa_node\n",
      "Your kernel may have been built without NUMA support.\n",
      "2024-06-11 15:12:14.839214: I external/local_xla/xla/stream_executor/cuda/cuda_executor.cc:887] could not open file to read NUMA node: /sys/bus/pci/devices/0000:01:00.0/numa_node\n",
      "Your kernel may have been built without NUMA support.\n",
      "2024-06-11 15:12:14.839274: I external/local_xla/xla/stream_executor/cuda/cuda_executor.cc:887] could not open file to read NUMA node: /sys/bus/pci/devices/0000:01:00.0/numa_node\n",
      "Your kernel may have been built without NUMA support.\n",
      "2024-06-11 15:12:14.839282: I tensorflow/core/common_runtime/gpu/gpu_device.cc:2022] Could not identify NUMA node of platform GPU id 0, defaulting to 0.  Your kernel may not have been built with NUMA support.\n",
      "2024-06-11 15:12:14.839326: I external/local_xla/xla/stream_executor/cuda/cuda_executor.cc:887] could not open file to read NUMA node: /sys/bus/pci/devices/0000:01:00.0/numa_node\n",
      "Your kernel may have been built without NUMA support.\n",
      "2024-06-11 15:12:14.839344: I tensorflow/core/common_runtime/gpu/gpu_device.cc:1929] Created device /job:localhost/replica:0/task:0/device:GPU:0 with 1778 MB memory:  -> device: 0, name: NVIDIA GeForce RTX 3050 Laptop GPU, pci bus id: 0000:01:00.0, compute capability: 8.6\n"
     ]
    }
   ],
   "source": [
    "def load_dataset(path):\n",
    "    data = pd.read_pickle(path)\n",
    "    n_features = data['clip_features'][0].shape[-1]\n",
    "    class_names = data['y'].unique()\n",
    "    y = np.array([np.where(class_names == e)[0][0] for e in data['y']])\n",
    "    x = np.concatenate(data['clip_features'].to_numpy())\n",
    "    print(f'Loaded {len(x)} instances from {path}.')\n",
    "    print(f'X shape {x.shape} and y shape {y.shape} with labels:\\n{data[\"y\"].value_counts()}.')\n",
    "    train_ds = tf.data.Dataset.from_tensor_slices((x, y)).batch(16)\n",
    "    return train_ds, class_names, n_features, data['paths']\n",
    "\n",
    "path = '../new_data_2023/ai/predictions.pk'\n",
    "validation_ds, class_names, n_features, paths = load_dataset(path)"
   ]
  },
  {
   "cell_type": "code",
   "execution_count": 3,
   "metadata": {},
   "outputs": [
    {
     "data": {
      "text/html": [
       "<div>\n",
       "<style scoped>\n",
       "    .dataframe tbody tr th:only-of-type {\n",
       "        vertical-align: middle;\n",
       "    }\n",
       "\n",
       "    .dataframe tbody tr th {\n",
       "        vertical-align: top;\n",
       "    }\n",
       "\n",
       "    .dataframe thead th {\n",
       "        text-align: right;\n",
       "    }\n",
       "</style>\n",
       "<table border=\"1\" class=\"dataframe\">\n",
       "  <thead>\n",
       "    <tr style=\"text-align: right;\">\n",
       "      <th></th>\n",
       "      <th>paths</th>\n",
       "      <th>y</th>\n",
       "      <th>clip_features</th>\n",
       "    </tr>\n",
       "  </thead>\n",
       "  <tbody>\n",
       "    <tr>\n",
       "      <th>0</th>\n",
       "      <td>../new_data_2023/ai/images_by_class/validation...</td>\n",
       "      <td>Complex AI</td>\n",
       "      <td>[[0.0018835, 0.001931, 0.001597, 0.001449, 0.0...</td>\n",
       "    </tr>\n",
       "    <tr>\n",
       "      <th>1</th>\n",
       "      <td>../new_data_2023/ai/images_by_class/validation...</td>\n",
       "      <td>Complex AI</td>\n",
       "      <td>[[0.001838, 0.002176, 0.001371, 0.001315, 0.00...</td>\n",
       "    </tr>\n",
       "    <tr>\n",
       "      <th>2</th>\n",
       "      <td>../new_data_2023/ai/images_by_class/validation...</td>\n",
       "      <td>Complex AI</td>\n",
       "      <td>[[0.00225, 0.001859, 0.0011425, 0.00102, 0.002...</td>\n",
       "    </tr>\n",
       "    <tr>\n",
       "      <th>3</th>\n",
       "      <td>../new_data_2023/ai/images_by_class/validation...</td>\n",
       "      <td>Complex AI</td>\n",
       "      <td>[[0.002016, 0.001717, 0.001439, 0.00218, 0.001...</td>\n",
       "    </tr>\n",
       "    <tr>\n",
       "      <th>4</th>\n",
       "      <td>../new_data_2023/ai/images_by_class/validation...</td>\n",
       "      <td>Complex AI</td>\n",
       "      <td>[[0.00253, 0.00294, 0.002, 0.002037, 0.00188, ...</td>\n",
       "    </tr>\n",
       "    <tr>\n",
       "      <th>...</th>\n",
       "      <td>...</td>\n",
       "      <td>...</td>\n",
       "      <td>...</td>\n",
       "    </tr>\n",
       "    <tr>\n",
       "      <th>22459</th>\n",
       "      <td>../new_data_2023/ai/images_by_class/validation...</td>\n",
       "      <td>Complex AI</td>\n",
       "      <td>[[0.00161, 0.0015, 0.001351, 0.001371, 0.00240...</td>\n",
       "    </tr>\n",
       "    <tr>\n",
       "      <th>22460</th>\n",
       "      <td>../new_data_2023/ai/images_by_class/validation...</td>\n",
       "      <td>Complex AI</td>\n",
       "      <td>[[0.002205, 0.002024, 0.001784, 0.00219, 0.002...</td>\n",
       "    </tr>\n",
       "    <tr>\n",
       "      <th>22461</th>\n",
       "      <td>../new_data_2023/ai/images_by_class/validation...</td>\n",
       "      <td>Complex AI</td>\n",
       "      <td>[[0.001947, 0.001683, 0.001744, 0.002134, 0.00...</td>\n",
       "    </tr>\n",
       "    <tr>\n",
       "      <th>22462</th>\n",
       "      <td>../new_data_2023/ai/images_by_class/validation...</td>\n",
       "      <td>Complex AI</td>\n",
       "      <td>[[0.002428, 0.001525, 0.002174, 0.002693, 0.00...</td>\n",
       "    </tr>\n",
       "    <tr>\n",
       "      <th>22463</th>\n",
       "      <td>../new_data_2023/ai/images_by_class/validation...</td>\n",
       "      <td>Complex AI</td>\n",
       "      <td>[[0.002237, 0.001701, 0.002064, 0.002737, 0.00...</td>\n",
       "    </tr>\n",
       "  </tbody>\n",
       "</table>\n",
       "<p>22464 rows × 3 columns</p>\n",
       "</div>"
      ],
      "text/plain": [
       "                                                   paths           y  \\\n",
       "0      ../new_data_2023/ai/images_by_class/validation...  Complex AI   \n",
       "1      ../new_data_2023/ai/images_by_class/validation...  Complex AI   \n",
       "2      ../new_data_2023/ai/images_by_class/validation...  Complex AI   \n",
       "3      ../new_data_2023/ai/images_by_class/validation...  Complex AI   \n",
       "4      ../new_data_2023/ai/images_by_class/validation...  Complex AI   \n",
       "...                                                  ...         ...   \n",
       "22459  ../new_data_2023/ai/images_by_class/validation...  Complex AI   \n",
       "22460  ../new_data_2023/ai/images_by_class/validation...  Complex AI   \n",
       "22461  ../new_data_2023/ai/images_by_class/validation...  Complex AI   \n",
       "22462  ../new_data_2023/ai/images_by_class/validation...  Complex AI   \n",
       "22463  ../new_data_2023/ai/images_by_class/validation...  Complex AI   \n",
       "\n",
       "                                           clip_features  \n",
       "0      [[0.0018835, 0.001931, 0.001597, 0.001449, 0.0...  \n",
       "1      [[0.001838, 0.002176, 0.001371, 0.001315, 0.00...  \n",
       "2      [[0.00225, 0.001859, 0.0011425, 0.00102, 0.002...  \n",
       "3      [[0.002016, 0.001717, 0.001439, 0.00218, 0.001...  \n",
       "4      [[0.00253, 0.00294, 0.002, 0.002037, 0.00188, ...  \n",
       "...                                                  ...  \n",
       "22459  [[0.00161, 0.0015, 0.001351, 0.001371, 0.00240...  \n",
       "22460  [[0.002205, 0.002024, 0.001784, 0.00219, 0.002...  \n",
       "22461  [[0.001947, 0.001683, 0.001744, 0.002134, 0.00...  \n",
       "22462  [[0.002428, 0.001525, 0.002174, 0.002693, 0.00...  \n",
       "22463  [[0.002237, 0.001701, 0.002064, 0.002737, 0.00...  \n",
       "\n",
       "[22464 rows x 3 columns]"
      ]
     },
     "execution_count": 3,
     "metadata": {},
     "output_type": "execute_result"
    }
   ],
   "source": [
    "pd.read_pickle(path)"
   ]
  },
  {
   "cell_type": "code",
   "execution_count": 4,
   "metadata": {
    "ExecuteTime": {
     "end_time": "2024-05-31T06:41:34.652127Z",
     "start_time": "2024-05-31T06:41:34.636308Z"
    }
   },
   "outputs": [],
   "source": [
    "from pathlib import Path\n",
    "p = Path(r\"../robot_or_brain_enriched_and_combined_data/images_by_class/validation\")\n",
    "class_list = [d.name for d in p.iterdir()]"
   ]
  },
  {
   "cell_type": "code",
   "execution_count": 5,
   "metadata": {},
   "outputs": [
    {
     "data": {
      "text/plain": [
       "['Acting or Performing machine',\n",
       " 'Collaborative or Interactive AI',\n",
       " 'Complex AI',\n",
       " 'Learning or recognition machine',\n",
       " 'Mysterious AI',\n",
       " 'None of the above',\n",
       " 'Superior human',\n",
       " 'Thinking machine']"
      ]
     },
     "execution_count": 5,
     "metadata": {},
     "output_type": "execute_result"
    }
   ],
   "source": [
    "class_list"
   ]
  },
  {
   "cell_type": "code",
   "execution_count": 6,
   "metadata": {},
   "outputs": [],
   "source": [
    "trues = [class_list[int(y)] for _x, y in validation_ds.unbatch()]"
   ]
  },
  {
   "cell_type": "markdown",
   "metadata": {},
   "source": [
    "### Print class counts for each split"
   ]
  },
  {
   "cell_type": "code",
   "execution_count": 7,
   "metadata": {},
   "outputs": [
    {
     "data": {
      "text/plain": [
       "Acting or Performing machine    22464\n",
       "Name: count, dtype: int64"
      ]
     },
     "execution_count": 7,
     "metadata": {},
     "output_type": "execute_result"
    }
   ],
   "source": [
    "df([y for y in trues]).value_counts()"
   ]
  },
  {
   "cell_type": "markdown",
   "metadata": {},
   "source": [
    "Some of these counts are horrible. The number of examples in 'Learning or recognition machine', 'Superior human' and 'Mysterious AI' are really too small. Also, the 'None of the above' class is very large, although that's not really a problem."
   ]
  },
  {
   "cell_type": "markdown",
   "metadata": {},
   "source": [
    "### Load our trained model"
   ]
  },
  {
   "cell_type": "code",
   "execution_count": 8,
   "metadata": {
    "ExecuteTime": {
     "end_time": "2024-05-31T06:38:03.032480Z",
     "start_time": "2024-05-31T06:38:02.314398Z"
    }
   },
   "outputs": [],
   "source": [
    "import tensorflow as tf\n",
    "\n",
    "# model = tf.keras.models.load_model('./fine_tuned_model_3m6herki')\n",
    "# model = tf.keras.models.load_model('./fine_tuned_model_3f0vzk68')\n",
    "# model = tf.keras.models.load_model('./fine_tuned_model_qdesgan9')\n",
    "# model = tf.keras.models.load_model('./clip_features_model_kuw3ehqp')\n",
    "model = tf.keras.models.load_model('./clip_features_model_kf5cnvvi')"
   ]
  },
  {
   "cell_type": "markdown",
   "metadata": {},
   "source": [
    "### Make predictions"
   ]
  },
  {
   "cell_type": "code",
   "execution_count": 9,
   "metadata": {},
   "outputs": [
    {
     "name": "stdout",
     "output_type": "stream",
     "text": [
      "  83/1404 [>.............................] - ETA: 1s"
     ]
    },
    {
     "name": "stderr",
     "output_type": "stream",
     "text": [
      "2024-06-11 15:12:18.633616: W external/local_xla/xla/service/gpu/llvm_gpu_backend/gpu_backend_lib.cc:504] Can't find libdevice directory ${CUDA_DIR}/nvvm/libdevice. This may result in compilation or runtime failures, if the program we try to run uses routines from libdevice.\n",
      "Searched for CUDA in the following directories:\n",
      "  ./cuda_sdk_lib\n",
      "  /usr/local/cuda-12.2\n",
      "  /usr/local/cuda\n",
      "  /home/christiaan/anaconda3/envs/robot311/lib/python3.11/site-packages/tensorflow/python/platform/../../../nvidia/cuda_nvcc\n",
      "  /home/christiaan/anaconda3/envs/robot311/lib/python3.11/site-packages/tensorflow/python/platform/../../../../nvidia/cuda_nvcc\n",
      "  .\n",
      "You can choose the search directory by setting xla_gpu_cuda_data_dir in HloModule's DebugOptions.  For most apps, setting the environment variable XLA_FLAGS=--xla_gpu_cuda_data_dir=/path/to/cuda will work.\n"
     ]
    },
    {
     "name": "stdout",
     "output_type": "stream",
     "text": [
      "1404/1404 [==============================] - 2s 1ms/step\n",
      "None of the above                  8558\n",
      "Acting or Performing machine       4414\n",
      "Thinking machine                   3845\n",
      "Complex AI                         2819\n",
      "Collaborative or Interactive AI    1734\n",
      "Superior human                      829\n",
      "Mysterious AI                       265\n",
      "Name: count, dtype: int64\n",
      "Acting or Performing machine    22464\n",
      "Name: count, dtype: int64\n"
     ]
    }
   ],
   "source": [
    "logits = model.predict(validation_ds)\n",
    "predicted = [class_list[v] for v in np.argmax(logits, 1)]\n",
    "from pandas import DataFrame as df\n",
    "\n",
    "print(df(predicted).value_counts())\n",
    "print(df(trues).value_counts())"
   ]
  },
  {
   "cell_type": "code",
   "execution_count": 10,
   "metadata": {},
   "outputs": [
    {
     "data": {
      "text/plain": [
       "['Acting or Performing machine',\n",
       " 'Acting or Performing machine',\n",
       " 'Acting or Performing machine',\n",
       " 'Collaborative or Interactive AI',\n",
       " 'None of the above',\n",
       " 'Thinking machine',\n",
       " 'Acting or Performing machine',\n",
       " 'Acting or Performing machine',\n",
       " 'Acting or Performing machine',\n",
       " 'Acting or Performing machine']"
      ]
     },
     "execution_count": 10,
     "metadata": {},
     "output_type": "execute_result"
    }
   ],
   "source": [
    "predicted[:10]"
   ]
  },
  {
   "cell_type": "code",
   "execution_count": 11,
   "metadata": {},
   "outputs": [
    {
     "data": {
      "text/plain": [
       "['Acting or Performing machine',\n",
       " 'Acting or Performing machine',\n",
       " 'Acting or Performing machine',\n",
       " 'Acting or Performing machine',\n",
       " 'Acting or Performing machine',\n",
       " 'Acting or Performing machine',\n",
       " 'Acting or Performing machine',\n",
       " 'Acting or Performing machine',\n",
       " 'Acting or Performing machine',\n",
       " 'Acting or Performing machine']"
      ]
     },
     "execution_count": 11,
     "metadata": {},
     "output_type": "execute_result"
    }
   ],
   "source": [
    "trues[:10]"
   ]
  },
  {
   "cell_type": "code",
   "execution_count": 12,
   "metadata": {},
   "outputs": [
    {
     "data": {
      "text/plain": [
       "0    ../new_data_2023/ai/images_by_class/validation...\n",
       "1    ../new_data_2023/ai/images_by_class/validation...\n",
       "2    ../new_data_2023/ai/images_by_class/validation...\n",
       "3    ../new_data_2023/ai/images_by_class/validation...\n",
       "4    ../new_data_2023/ai/images_by_class/validation...\n",
       "5    ../new_data_2023/ai/images_by_class/validation...\n",
       "6    ../new_data_2023/ai/images_by_class/validation...\n",
       "7    ../new_data_2023/ai/images_by_class/validation...\n",
       "8    ../new_data_2023/ai/images_by_class/validation...\n",
       "9    ../new_data_2023/ai/images_by_class/validation...\n",
       "Name: paths, dtype: object"
      ]
     },
     "execution_count": 12,
     "metadata": {},
     "output_type": "execute_result"
    }
   ],
   "source": [
    "paths[:10]"
   ]
  },
  {
   "cell_type": "code",
   "execution_count": 13,
   "metadata": {},
   "outputs": [],
   "source": [
    "df_predicted = df(predicted).reset_index()\n",
    "df_trues = df(trues).reset_index()"
   ]
  },
  {
   "cell_type": "code",
   "execution_count": 14,
   "metadata": {},
   "outputs": [],
   "source": [
    "df_predicted = df_predicted.rename(columns={0:'predictions'})\n",
    "df_trues = df_trues.rename(columns={0:'folder_validation'})"
   ]
  },
  {
   "cell_type": "code",
   "execution_count": 15,
   "metadata": {},
   "outputs": [],
   "source": [
    "results = []"
   ]
  },
  {
   "cell_type": "code",
   "execution_count": 16,
   "metadata": {},
   "outputs": [],
   "source": [
    "for prediction, path in zip(predicted, paths):\n",
    "    r = {}\n",
    "    r['prediction'] = prediction\n",
    "    r['path'] = path\n",
    "    r['filename'] = path.name\n",
    "    results.append(r)"
   ]
  },
  {
   "cell_type": "code",
   "execution_count": 17,
   "metadata": {},
   "outputs": [],
   "source": [
    "results = pd.DataFrame(results)"
   ]
  },
  {
   "cell_type": "code",
   "execution_count": 18,
   "metadata": {},
   "outputs": [
    {
     "data": {
      "application/vnd.jupyter.widget-view+json": {
       "model_id": "3fa12e8bbbd84322958fed31d0f70db1",
       "version_major": 2,
       "version_minor": 0
      },
      "text/plain": [
       "VBox(children=(HBox(children=(Label(value='Acting or Performing machine', layout=Layout(width='220px')), Image…"
      ]
     },
     "metadata": {},
     "output_type": "display_data"
    }
   ],
   "source": [
    "from IPython.display import display\n",
    "from ipywidgets import widgets, HBox, VBox, Layout\n",
    "\n",
    "\n",
    "hboxes = []\n",
    "for class_name in class_list:    \n",
    "    label = widgets.Label(class_name, layout=Layout(width='220px'))\n",
    "    \n",
    "    image_paths = [str(r[1]['path']) for r in list(results.iterrows()) if r[1]['prediction'] == class_name]\n",
    "    images = [widgets.Image(value=open(p, 'rb').read(), layout=Layout(width='120px')) for p in image_paths[:5]]\n",
    "    # images=[widgets.Label(t,layout=Layout(width='220px')) for t in image_paths[:10]]\n",
    "    hbox = HBox([label] + images, layout=Layout(height='90px'))\n",
    "    hboxes += [hbox]\n",
    "vbox = VBox(hboxes)\n",
    "display(vbox)"
   ]
  },
  {
   "cell_type": "code",
   "execution_count": 19,
   "metadata": {},
   "outputs": [],
   "source": [
    "results.to_csv('predictions_imago_chris.csv.new', index=False)\n",
    "results.to_pickle('predictions_imago_chris.pkl.new')\n"
   ]
  }
 ],
 "metadata": {
  "kernelspec": {
   "display_name": "Python 3 (ipykernel)",
   "language": "python",
   "name": "python3"
  },
  "language_info": {
   "codemirror_mode": {
    "name": "ipython",
    "version": 3
   },
   "file_extension": ".py",
   "mimetype": "text/x-python",
   "name": "python",
   "nbconvert_exporter": "python",
   "pygments_lexer": "ipython3",
   "version": "3.11.5"
  }
 },
 "nbformat": 4,
 "nbformat_minor": 4
}
