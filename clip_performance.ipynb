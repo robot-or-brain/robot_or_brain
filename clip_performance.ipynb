{
 "cells": [
  {
   "cell_type": "code",
   "execution_count": 1,
   "metadata": {
    "collapsed": true,
    "pycharm": {
     "name": "#%%\n"
    }
   },
   "outputs": [],
   "source": [
    "import numpy as np\n",
    "from pandas import DataFrame as df"
   ]
  },
  {
   "cell_type": "markdown",
   "source": [
    "### Load the 3 dataset splits"
   ],
   "metadata": {
    "collapsed": false,
    "pycharm": {
     "name": "#%% md\n"
    }
   }
  },
  {
   "cell_type": "code",
   "execution_count": 2,
   "outputs": [],
   "source": [
    "from utils import load_dataset\n",
    "\n",
    "val_set, _ = load_dataset('validation')\n",
    "test_set, _ = load_dataset('test')\n",
    "train_set, class_list = load_dataset('train')\n",
    "datasets = {'validation':val_set, 'test':test_set,'train':train_set}"
   ],
   "metadata": {
    "collapsed": false,
    "pycharm": {
     "name": "#%%\n"
    }
   }
  },
  {
   "cell_type": "markdown",
   "source": [
    "### Print class counts for each split"
   ],
   "metadata": {
    "collapsed": false,
    "pycharm": {
     "name": "#%% md\n"
    }
   }
  },
  {
   "cell_type": "code",
   "execution_count": 3,
   "outputs": [
    {
     "data": {
      "text/plain": "                                 validation  test  train\nNone of the above                       168   280    672\nCollaborative or Interactive AI          85   142    341\nActing or Performing machine             50    83    199\nComplex AI                               35    59    140\nThinking machine                         25    42    100\nMysterious AI                             8    13     32\nLearning or recognition machine           2     3      9\nSuperior human                            2     3      6",
      "text/html": "<div>\n<style scoped>\n    .dataframe tbody tr th:only-of-type {\n        vertical-align: middle;\n    }\n\n    .dataframe tbody tr th {\n        vertical-align: top;\n    }\n\n    .dataframe thead th {\n        text-align: right;\n    }\n</style>\n<table border=\"1\" class=\"dataframe\">\n  <thead>\n    <tr style=\"text-align: right;\">\n      <th></th>\n      <th>validation</th>\n      <th>test</th>\n      <th>train</th>\n    </tr>\n  </thead>\n  <tbody>\n    <tr>\n      <th>None of the above</th>\n      <td>168</td>\n      <td>280</td>\n      <td>672</td>\n    </tr>\n    <tr>\n      <th>Collaborative or Interactive AI</th>\n      <td>85</td>\n      <td>142</td>\n      <td>341</td>\n    </tr>\n    <tr>\n      <th>Acting or Performing machine</th>\n      <td>50</td>\n      <td>83</td>\n      <td>199</td>\n    </tr>\n    <tr>\n      <th>Complex AI</th>\n      <td>35</td>\n      <td>59</td>\n      <td>140</td>\n    </tr>\n    <tr>\n      <th>Thinking machine</th>\n      <td>25</td>\n      <td>42</td>\n      <td>100</td>\n    </tr>\n    <tr>\n      <th>Mysterious AI</th>\n      <td>8</td>\n      <td>13</td>\n      <td>32</td>\n    </tr>\n    <tr>\n      <th>Learning or recognition machine</th>\n      <td>2</td>\n      <td>3</td>\n      <td>9</td>\n    </tr>\n    <tr>\n      <th>Superior human</th>\n      <td>2</td>\n      <td>3</td>\n      <td>6</td>\n    </tr>\n  </tbody>\n</table>\n</div>"
     },
     "execution_count": 3,
     "metadata": {},
     "output_type": "execute_result"
    }
   ],
   "source": [
    "df({k:v['y'].value_counts() for k,v  in datasets.items()})"
   ],
   "metadata": {
    "collapsed": false,
    "pycharm": {
     "name": "#%%\n"
    }
   }
  },
  {
   "cell_type": "markdown",
   "source": [
    "Some of these counts are horrible. The number of examples in 'Learning or recognition machine', 'Superior human' and 'Mysterious AI' are really too small. Also, the 'None of the above' class is very large, although that's not really a problem."
   ],
   "metadata": {
    "collapsed": false,
    "pycharm": {
     "name": "#%% md\n"
    }
   }
  },
  {
   "cell_type": "markdown",
   "source": [
    "### Create a prompt for each class"
   ],
   "metadata": {
    "collapsed": false,
    "pycharm": {
     "name": "#%% md\n"
    }
   }
  },
  {
   "cell_type": "code",
   "execution_count": 4,
   "outputs": [
    {
     "data": {
      "text/plain": "{'Machine,robot or product, performing an act or task': 'Acting or Performing machine',\n 'AI interacting with humans, AI performs a task that supports humans.': 'Collaborative or Interactive AI',\n 'AI visualized as complex data, complex interactions/nodes/networks': 'Complex AI',\n 'AI scanning or recognizing data points in traffic, shops, or faces': 'Learning or recognition machine',\n 'AI working “magically” or in a mysterious way.': 'Mysterious AI',\n 'car horse cat house bicycle cook shoe plane spider animal weapon boat tree': 'None of the above',\n 'AI depicted as technology that is created and/or controlled by humans.': 'Superior human',\n 'AI visualized as a brain, face, eye, android storing large amounts of data': 'Thinking machine'}"
     },
     "execution_count": 4,
     "metadata": {},
     "output_type": "execute_result"
    }
   ],
   "source": [
    "acting = \"Machine,robot or product, performing an act or task\"\n",
    "collab = \"AI interacting with humans, AI performs a task that supports humans.\"\n",
    "complx = \"AI visualized as complex data, complex interactions/nodes/networks\"\n",
    "learning = \"AI scanning or recognizing data points in traffic, shops, or faces\"\n",
    "mysterious = \"AI working “magically” or in a mysterious way.\"\n",
    "other = \"car horse cat house bicycle cook shoe plane spider animal weapon boat tree\"\n",
    "superior = \"AI depicted as technology that is created and/or controlled by humans.\"\n",
    "thinking = \"AI visualized as a brain, face, eye, android storing large amounts of data\"\n",
    "\n",
    "prompts = [acting, collab, complx, learning, mysterious, other, superior, thinking]\n",
    "classes_by_prompt = {k:v for k, v in zip(prompts, class_list)}\n",
    "classes_by_prompt"
   ],
   "metadata": {
    "collapsed": false,
    "pycharm": {
     "name": "#%%\n"
    }
   }
  },
  {
   "cell_type": "markdown",
   "source": [
    "### Create classifier using clip and the prompts"
   ],
   "metadata": {
    "collapsed": false,
    "pycharm": {
     "name": "#%% md\n"
    }
   }
  },
  {
   "cell_type": "code",
   "execution_count": 5,
   "outputs": [
    {
     "data": {
      "text/plain": "3"
     },
     "execution_count": 5,
     "metadata": {},
     "output_type": "execute_result"
    }
   ],
   "source": [
    "from PIL import Image\n",
    "import clip\n",
    "import torch\n",
    "import numpy as np\n",
    "\n",
    "def predict_image_with_clip(image_path):\n",
    "    #See first example at https://github.com/openai/CLIP#usage\n",
    "    device = \"cuda\" if torch.cuda.is_available() else \"cpu\"\n",
    "    model, preprocess = clip.load(\"ViT-B/32\", device=device)\n",
    "\n",
    "    img = Image.open(image_path)\n",
    "    image = preprocess(img).unsqueeze(0).to(device)\n",
    "    text = clip.tokenize(prompts).to(device)\n",
    "\n",
    "    with torch.no_grad():\n",
    "        logits_per_image, logits_per_text = model(image, text)\n",
    "        probs = logits_per_image.softmax(dim=-1).cpu().numpy()\n",
    "\n",
    "    prediction = np.argmax(probs)\n",
    "    return prediction\n",
    "\n",
    "\n",
    "    # for prob, label in sorted(zip(probs[0], labels), key=lambda x : x[0], reverse=True):\n",
    "    #     print(f'{prob:.2f} {label}')\n",
    "\n",
    "predict_image_with_clip(val_set['paths'][1])"
   ],
   "metadata": {
    "collapsed": false,
    "pycharm": {
     "name": "#%%\n"
    }
   }
  },
  {
   "cell_type": "code",
   "execution_count": 6,
   "outputs": [
    {
     "name": "stderr",
     "output_type": "stream",
     "text": [
      "100%|██████████| 375/375 [24:48<00:00,  3.97s/it]\n"
     ]
    }
   ],
   "source": [
    "from tqdm import tqdm\n",
    "\n",
    "predicted = [class_list[predict_image_with_clip(p)] for p in tqdm(val_set['paths'][::])]\n",
    "trues = val_set['y'][::].values"
   ],
   "metadata": {
    "collapsed": false,
    "pycharm": {
     "name": "#%%\n"
    }
   }
  },
  {
   "cell_type": "code",
   "execution_count": 7,
   "outputs": [
    {
     "name": "stdout",
     "output_type": "stream",
     "text": [
      "Acting or Performing machine       85\n",
      "Collaborative or Interactive AI    79\n",
      "Superior human                     77\n",
      "Learning or recognition machine    60\n",
      "Mysterious AI                      32\n",
      "Thinking machine                   29\n",
      "Complex AI                         13\n",
      "dtype: int64\n",
      "None of the above                  168\n",
      "Collaborative or Interactive AI     85\n",
      "Acting or Performing machine        50\n",
      "Complex AI                          35\n",
      "Thinking machine                    25\n",
      "Mysterious AI                        8\n",
      "Learning or recognition machine      2\n",
      "Superior human                       2\n",
      "dtype: int64\n"
     ]
    }
   ],
   "source": [
    "from pandas import DataFrame as df\n",
    "print(df(predicted).value_counts())\n",
    "print(df(trues).value_counts())"
   ],
   "metadata": {
    "collapsed": false,
    "pycharm": {
     "name": "#%%\n"
    }
   }
  },
  {
   "cell_type": "markdown",
   "source": [
    "### Performance metrics for clip based classifier"
   ],
   "metadata": {
    "collapsed": false,
    "pycharm": {
     "name": "#%% md\n"
    }
   }
  },
  {
   "cell_type": "code",
   "execution_count": 8,
   "outputs": [
    {
     "data": {
      "text/plain": "<Figure size 432x288 with 2 Axes>",
      "image/png": "[encoded data removed]"
     },
     "metadata": {
      "needs_background": "light"
     },
     "output_type": "display_data"
    }
   ],
   "source": [
    "from sklearn.metrics import confusion_matrix, ConfusionMatrixDisplay\n",
    "confusion = confusion_matrix(trues, predicted)\n",
    "disp = ConfusionMatrixDisplay(confusion_matrix=confusion,                               display_labels=class_list)\n",
    "_ = disp.plot(cmap='Greys', xticks_rotation='vertical')\n"
   ],
   "metadata": {
    "collapsed": false,
    "pycharm": {
     "name": "#%%\n"
    }
   }
  },
  {
   "cell_type": "code",
   "execution_count": 9,
   "outputs": [
    {
     "name": "stdout",
     "output_type": "stream",
     "text": [
      "accuracy_score 0.16266666666666665\n",
      "recall_score [0.4        0.36470588 0.02857143 0.5        0.         0.\n",
      " 1.         0.24      ]\n",
      "precision_score [0.23529412 0.39240506 0.07692308 0.01666667 0.         0.\n",
      " 0.02597403 0.20689655]\n",
      "f1_score [0.2962963  0.37804878 0.04166667 0.03225806 0.         0.\n",
      " 0.05063291 0.22222222]\n",
      "krippendorff.alpha 0.18118860629224842\n"
     ]
    },
    {
     "name": "stderr",
     "output_type": "stream",
     "text": [
      "C:\\Users\\ChristiaanMeijer\\anaconda3\\lib\\site-packages\\sklearn\\metrics\\_classification.py:1248: UndefinedMetricWarning: Precision is ill-defined and being set to 0.0 in labels with no predicted samples. Use `zero_division` parameter to control this behavior.\n",
      "  _warn_prf(average, modifier, msg_start, len(result))\n"
     ]
    }
   ],
   "source": [
    "from utils import print_performance_metrics\n",
    "\n",
    "print_performance_metrics(trues, predicted, class_list)\n"
   ],
   "metadata": {
    "collapsed": false,
    "pycharm": {
     "name": "#%%\n"
    }
   }
  }
 ],
 "metadata": {
  "kernelspec": {
   "display_name": "Python 3",
   "language": "python",
   "name": "python3"
  },
  "language_info": {
   "codemirror_mode": {
    "name": "ipython",
    "version": 2
   },
   "file_extension": ".py",
   "mimetype": "text/x-python",
   "name": "python",
   "nbconvert_exporter": "python",
   "pygments_lexer": "ipython2",
   "version": "2.7.6"
  }
 },
 "nbformat": 4,
 "nbformat_minor": 0
}