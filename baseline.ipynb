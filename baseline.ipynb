{
 "cells": [
  {
   "cell_type": "code",
   "execution_count": 1,
   "metadata": {
    "collapsed": true,
    "pycharm": {
     "name": "#%%\n"
    }
   },
   "outputs": [],
   "source": [
    "import numpy as np\n",
    "from pandas import DataFrame as df"
   ]
  },
  {
   "cell_type": "markdown",
   "source": [
    "### Load the 3 dataset splits"
   ],
   "metadata": {
    "collapsed": false,
    "pycharm": {
     "name": "#%% md\n"
    }
   }
  },
  {
   "cell_type": "code",
   "execution_count": 2,
   "outputs": [],
   "source": [
    "from utils import load_dataset\n",
    "\n",
    "val_set, _ = load_dataset('validation')\n",
    "test_set, _ = load_dataset('test')\n",
    "train_set, class_list = load_dataset('train')\n",
    "datasets = {'validation':val_set, 'test':test_set,'train':train_set}"
   ],
   "metadata": {
    "collapsed": false,
    "pycharm": {
     "name": "#%%\n"
    }
   }
  },
  {
   "cell_type": "markdown",
   "source": [
    "### Print class counts for each split"
   ],
   "metadata": {
    "collapsed": false,
    "pycharm": {
     "name": "#%% md\n"
    }
   }
  },
  {
   "cell_type": "code",
   "execution_count": 3,
   "outputs": [
    {
     "data": {
      "text/plain": "                                 validation  test  train\nNone of the above                       168   280    672\nCollaborative or Interactive AI          85   142    341\nActing or Performing machine             50    83    199\nComplex AI                               35    59    140\nThinking machine                         25    42    100\nMysterious AI                             8    13     32\nLearning or recognition machine           2     3      9\nSuperior human                            2     3      6",
      "text/html": "<div>\n<style scoped>\n    .dataframe tbody tr th:only-of-type {\n        vertical-align: middle;\n    }\n\n    .dataframe tbody tr th {\n        vertical-align: top;\n    }\n\n    .dataframe thead th {\n        text-align: right;\n    }\n</style>\n<table border=\"1\" class=\"dataframe\">\n  <thead>\n    <tr style=\"text-align: right;\">\n      <th></th>\n      <th>validation</th>\n      <th>test</th>\n      <th>train</th>\n    </tr>\n  </thead>\n  <tbody>\n    <tr>\n      <th>None of the above</th>\n      <td>168</td>\n      <td>280</td>\n      <td>672</td>\n    </tr>\n    <tr>\n      <th>Collaborative or Interactive AI</th>\n      <td>85</td>\n      <td>142</td>\n      <td>341</td>\n    </tr>\n    <tr>\n      <th>Acting or Performing machine</th>\n      <td>50</td>\n      <td>83</td>\n      <td>199</td>\n    </tr>\n    <tr>\n      <th>Complex AI</th>\n      <td>35</td>\n      <td>59</td>\n      <td>140</td>\n    </tr>\n    <tr>\n      <th>Thinking machine</th>\n      <td>25</td>\n      <td>42</td>\n      <td>100</td>\n    </tr>\n    <tr>\n      <th>Mysterious AI</th>\n      <td>8</td>\n      <td>13</td>\n      <td>32</td>\n    </tr>\n    <tr>\n      <th>Learning or recognition machine</th>\n      <td>2</td>\n      <td>3</td>\n      <td>9</td>\n    </tr>\n    <tr>\n      <th>Superior human</th>\n      <td>2</td>\n      <td>3</td>\n      <td>6</td>\n    </tr>\n  </tbody>\n</table>\n</div>"
     },
     "execution_count": 3,
     "metadata": {},
     "output_type": "execute_result"
    }
   ],
   "source": [
    "df({k:v['y'].value_counts() for k,v  in datasets.items()})"
   ],
   "metadata": {
    "collapsed": false,
    "pycharm": {
     "name": "#%%\n"
    }
   }
  },
  {
   "cell_type": "markdown",
   "source": [
    "Some of these counts are horrible. The number of examples in 'Learning or recognition machine', 'Superior human' and 'Mysterious AI' are really to small. Also, the 'None of the above' class is very large, although that's not really a problem."
   ],
   "metadata": {
    "collapsed": false,
    "pycharm": {
     "name": "#%% md\n"
    }
   }
  },
  {
   "cell_type": "markdown",
   "source": [
    "### Show some images of each class"
   ],
   "metadata": {
    "collapsed": false,
    "pycharm": {
     "name": "#%% md\n"
    }
   }
  },
  {
   "cell_type": "code",
   "execution_count": 4,
   "outputs": [],
   "source": [
    "import ipywidgets as widgets\n",
    "import IPython.display as display\n",
    "\n",
    "def plot_images_from_class(cls, n=5):\n",
    "    print(cls)\n",
    "    current_dir = base_dir / 'train' / (cls)\n",
    "    all_image_paths = [f for f in current_dir.iterdir()]\n",
    "    n_image_paths = np.random.choice(all_image_paths, n, replace=False)\n",
    "    file_objs = [open(path, 'rb').read() for path in n_image_paths]\n",
    "    im_widgets = [widgets.Image(value=f, format='jpg', width=150, height=150) for f in file_objs]\n",
    "    side_by_side = widgets.HBox(im_widgets)\n",
    "    display.display(side_by_side)\n",
    "\n",
    "for cls in class_list:\n",
    "    #plot_images_from_class(cls)  # Don't commit this output to repo!\n",
    "    pass"
   ],
   "metadata": {
    "collapsed": false,
    "pycharm": {
     "name": "#%%\n"
    }
   }
  },
  {
   "cell_type": "markdown",
   "source": [
    "### Performance metrics for majority vote baseline"
   ],
   "metadata": {
    "collapsed": false,
    "pycharm": {
     "name": "#%% md\n"
    }
   }
  },
  {
   "cell_type": "code",
   "execution_count": 5,
   "outputs": [],
   "source": [
    "predicted = ['None of the above' for _ in val_set['y']]\n",
    "trues = val_set['y'].values"
   ],
   "metadata": {
    "collapsed": false,
    "pycharm": {
     "name": "#%%\n"
    }
   }
  },
  {
   "cell_type": "code",
   "execution_count": 6,
   "outputs": [
    {
     "data": {
      "text/plain": "<Figure size 432x288 with 2 Axes>",
      "image/png": "[encoded data removed]"
     },
     "metadata": {
      "needs_background": "light"
     },
     "output_type": "display_data"
    }
   ],
   "source": [
    "from sklearn.metrics import confusion_matrix, ConfusionMatrixDisplay\n",
    "confusion = confusion_matrix(trues, predicted)\n",
    "#df(confusion, columns=[cls[:8] for cls in class_list], index=class_list)\n",
    "disp = ConfusionMatrixDisplay(confusion_matrix=confusion,                               display_labels=class_list)\n",
    "_ = disp.plot(cmap='Greys', xticks_rotation='vertical')\n"
   ],
   "metadata": {
    "collapsed": false,
    "pycharm": {
     "name": "#%%\n"
    }
   }
  },
  {
   "cell_type": "code",
   "execution_count": 7,
   "outputs": [
    {
     "name": "stdout",
     "output_type": "stream",
     "text": [
      "accuracy_score 0.448\n",
      "recall_score [0. 0. 0. 0. 0. 1. 0. 0.]\n",
      "precision_score [0.    0.    0.    0.    0.    0.448 0.    0.   ]\n",
      "f1_score [0.         0.         0.         0.         0.         0.61878453\n",
      " 0.         0.        ]\n",
      "krippendorff.alpha -0.22985983892943374\n"
     ]
    },
    {
     "name": "stderr",
     "output_type": "stream",
     "text": [
      "C:\\Users\\ChristiaanMeijer\\anaconda3\\lib\\site-packages\\sklearn\\metrics\\_classification.py:1248: UndefinedMetricWarning: Precision is ill-defined and being set to 0.0 in labels with no predicted samples. Use `zero_division` parameter to control this behavior.\n",
      "  _warn_prf(average, modifier, msg_start, len(result))\n"
     ]
    }
   ],
   "source": [
    "from utils import print_performance_metrics\n",
    "\n",
    "print_performance_metrics(trues, predicted, class_list)\n"
   ],
   "metadata": {
    "collapsed": false,
    "pycharm": {
     "name": "#%%\n"
    }
   }
  }
 ],
 "metadata": {
  "kernelspec": {
   "display_name": "Python 3",
   "language": "python",
   "name": "python3"
  },
  "language_info": {
   "codemirror_mode": {
    "name": "ipython",
    "version": 2
   },
   "file_extension": ".py",
   "mimetype": "text/x-python",
   "name": "python",
   "nbconvert_exporter": "python",
   "pygments_lexer": "ipython2",
   "version": "2.7.6"
  }
 },
 "nbformat": 4,
 "nbformat_minor": 0
}