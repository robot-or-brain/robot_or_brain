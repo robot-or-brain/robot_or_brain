{
 "cells": [
  {
   "cell_type": "code",
   "execution_count": 22,
   "metadata": {
    "collapsed": true,
    "pycharm": {
     "name": "#%%\n"
    }
   },
   "outputs": [
    {
     "data": {
      "text/plain": "                                 0\n0     Acting or Performing machine\n1  Collaborative or Interactive AI\n2                       Complex AI\n3  Learning or recognition machine\n4                    Mysterious AI\n5                None of the above\n6                   Superior human\n7                 Thinking machine",
      "text/html": "<div>\n<style scoped>\n    .dataframe tbody tr th:only-of-type {\n        vertical-align: middle;\n    }\n\n    .dataframe tbody tr th {\n        vertical-align: top;\n    }\n\n    .dataframe thead th {\n        text-align: right;\n    }\n</style>\n<table border=\"1\" class=\"dataframe\">\n  <thead>\n    <tr style=\"text-align: right;\">\n      <th></th>\n      <th>0</th>\n    </tr>\n  </thead>\n  <tbody>\n    <tr>\n      <th>0</th>\n      <td>Acting or Performing machine</td>\n    </tr>\n    <tr>\n      <th>1</th>\n      <td>Collaborative or Interactive AI</td>\n    </tr>\n    <tr>\n      <th>2</th>\n      <td>Complex AI</td>\n    </tr>\n    <tr>\n      <th>3</th>\n      <td>Learning or recognition machine</td>\n    </tr>\n    <tr>\n      <th>4</th>\n      <td>Mysterious AI</td>\n    </tr>\n    <tr>\n      <th>5</th>\n      <td>None of the above</td>\n    </tr>\n    <tr>\n      <th>6</th>\n      <td>Superior human</td>\n    </tr>\n    <tr>\n      <th>7</th>\n      <td>Thinking machine</td>\n    </tr>\n  </tbody>\n</table>\n</div>"
     },
     "execution_count": 22,
     "metadata": {},
     "output_type": "execute_result"
    }
   ],
   "source": [
    "from pathlib import Path\n",
    "import pandas as pd\n",
    "from pandas import DataFrame as df\n",
    "base_dir = Path('../robot-or-brain-data/robot-or-brain-data/images_by_class')\n",
    "split = 'validation'\n",
    "validation_dir = base_dir / split\n",
    "\n",
    "classes = [p.name for p in validation_dir.iterdir()]"
   ]
  },
  {
   "cell_type": "code",
   "execution_count": 51,
   "outputs": [
    {
     "data": {
      "text/plain": "<AxesSubplot:>"
     },
     "execution_count": 51,
     "metadata": {},
     "output_type": "execute_result"
    },
    {
     "data": {
      "text/plain": "<Figure size 432x288 with 1 Axes>",
      "image/png": "[encoded data removed]"
     },
     "metadata": {
      "needs_background": "light"
     },
     "output_type": "display_data"
    }
   ],
   "source": [
    "\n",
    "[[[f, cls] for f in (validation_dir / cls).iterdir()] for cls in classes]\n",
    "data_lists = [[f, cls] for cls in classes for f in (validation_dir / cls).iterdir()]\n",
    "d = df({'paths':[path for path, _ in data_lists], 'y':[cls for _, cls in data_lists]})\n",
    "\n",
    "d['y'].hist()"
   ],
   "metadata": {
    "collapsed": false,
    "pycharm": {
     "name": "#%%\n"
    }
   }
  },
  {
   "cell_type": "code",
   "execution_count": null,
   "outputs": [],
   "source": [],
   "metadata": {
    "collapsed": false,
    "pycharm": {
     "name": "#%%\n"
    }
   }
  },
  {
   "cell_type": "code",
   "execution_count": 17,
   "outputs": [
    {
     "data": {
      "text/plain": "[WindowsPath('../robot-or-brain-data/robot-or-brain-data/images_by_class/validation/Learning/recognition machine')]"
     },
     "execution_count": 17,
     "metadata": {},
     "output_type": "execute_result"
    }
   ],
   "source": [
    "d = validation_dir / (classes[3])\n",
    "[f for f in d.iterdir()]\n",
    "\n"
   ],
   "metadata": {
    "collapsed": false,
    "pycharm": {
     "name": "#%%\n"
    }
   }
  }
 ],
 "metadata": {
  "kernelspec": {
   "display_name": "Python 3",
   "language": "python",
   "name": "python3"
  },
  "language_info": {
   "codemirror_mode": {
    "name": "ipython",
    "version": 2
   },
   "file_extension": ".py",
   "mimetype": "text/x-python",
   "name": "python",
   "nbconvert_exporter": "python",
   "pygments_lexer": "ipython2",
   "version": "2.7.6"
  }
 },
 "nbformat": 4,
 "nbformat_minor": 0
}