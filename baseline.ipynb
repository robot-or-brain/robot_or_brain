{
 "cells": [
  {
   "cell_type": "code",
   "execution_count": 1,
   "metadata": {
    "pycharm": {
     "name": "#%%\n"
    }
   },
   "outputs": [],
   "source": [
    "import numpy as np\n",
    "from pandas import DataFrame as df"
   ]
  },
  {
   "cell_type": "markdown",
   "source": [
    "# Majority class base line\n",
    "This notebook calculates the performance of a trivial majority class classifier as a baseline to any real models."
   ],
   "metadata": {
    "collapsed": false,
    "pycharm": {
     "name": "#%% md\n"
    }
   }
  },
  {
   "cell_type": "markdown",
   "metadata": {
    "pycharm": {
     "name": "#%% md\n"
    }
   },
   "source": [
    "### Load the 3 dataset splits"
   ]
  },
  {
   "cell_type": "code",
   "execution_count": 2,
   "outputs": [
    {
     "name": "stdout",
     "output_type": "stream",
     "text": [
      "Loaded validation set with 750 instances.\n",
      "Loaded test set with 1250 instances.\n",
      "Loaded train set with 2999 instances.\n"
     ]
    }
   ],
   "source": [
    "from utils import load_dataset, public_base_dir, private_base_dir, combined_base_dir\n",
    "\n",
    "path = combined_base_dir\n",
    "\n",
    "val_set, _ = load_dataset('validation', base_dir=path)\n",
    "test_set, _ = load_dataset('test', base_dir=path)\n",
    "train_set, class_list = load_dataset('train', base_dir=path)\n",
    "datasets = {'validation':val_set, 'test':test_set,'train':train_set}"
   ],
   "metadata": {
    "collapsed": false,
    "pycharm": {
     "name": "#%%\n"
    }
   }
  },
  {
   "cell_type": "markdown",
   "source": [
    "### Print class counts for each split"
   ],
   "metadata": {
    "collapsed": false,
    "pycharm": {
     "name": "#%% md\n"
    }
   }
  },
  {
   "cell_type": "code",
   "execution_count": 3,
   "outputs": [
    {
     "data": {
      "text/plain": "                                 validation  test  train\nNone of the above                       267   445   1067\nActing or Performing machine            168   281    674\nCollaborative or Interactive AI         109   182    438\nThinking machine                         94   156    373\nComplex AI                               87   145    347\nMysterious AI                            13    21     50\nSuperior human                            8    14     34\nLearning or recognition machine           4     6     16",
      "text/html": "<div>\n<style scoped>\n    .dataframe tbody tr th:only-of-type {\n        vertical-align: middle;\n    }\n\n    .dataframe tbody tr th {\n        vertical-align: top;\n    }\n\n    .dataframe thead th {\n        text-align: right;\n    }\n</style>\n<table border=\"1\" class=\"dataframe\">\n  <thead>\n    <tr style=\"text-align: right;\">\n      <th></th>\n      <th>validation</th>\n      <th>test</th>\n      <th>train</th>\n    </tr>\n  </thead>\n  <tbody>\n    <tr>\n      <th>None of the above</th>\n      <td>267</td>\n      <td>445</td>\n      <td>1067</td>\n    </tr>\n    <tr>\n      <th>Acting or Performing machine</th>\n      <td>168</td>\n      <td>281</td>\n      <td>674</td>\n    </tr>\n    <tr>\n      <th>Collaborative or Interactive AI</th>\n      <td>109</td>\n      <td>182</td>\n      <td>438</td>\n    </tr>\n    <tr>\n      <th>Thinking machine</th>\n      <td>94</td>\n      <td>156</td>\n      <td>373</td>\n    </tr>\n    <tr>\n      <th>Complex AI</th>\n      <td>87</td>\n      <td>145</td>\n      <td>347</td>\n    </tr>\n    <tr>\n      <th>Mysterious AI</th>\n      <td>13</td>\n      <td>21</td>\n      <td>50</td>\n    </tr>\n    <tr>\n      <th>Superior human</th>\n      <td>8</td>\n      <td>14</td>\n      <td>34</td>\n    </tr>\n    <tr>\n      <th>Learning or recognition machine</th>\n      <td>4</td>\n      <td>6</td>\n      <td>16</td>\n    </tr>\n  </tbody>\n</table>\n</div>"
     },
     "execution_count": 3,
     "metadata": {},
     "output_type": "execute_result"
    }
   ],
   "source": [
    "df({k:v['y'].value_counts() for k,v  in datasets.items()})"
   ],
   "metadata": {
    "collapsed": false,
    "pycharm": {
     "name": "#%%\n"
    }
   }
  },
  {
   "cell_type": "markdown",
   "source": [
    "Some of these counts are horrible. The number of examples in 'Learning or recognition machine', 'Superior human' and 'Mysterious AI' are really to small. Also, the 'None of the above' class is very large, although that's not really a problem."
   ],
   "metadata": {
    "collapsed": false,
    "pycharm": {
     "name": "#%% md\n"
    }
   }
  },
  {
   "cell_type": "markdown",
   "source": [
    "### Show some images of each class"
   ],
   "metadata": {
    "collapsed": false,
    "pycharm": {
     "name": "#%% md\n"
    }
   }
  },
  {
   "cell_type": "code",
   "execution_count": 4,
   "outputs": [],
   "source": [
    "from utils import combined_base_dir\n",
    "import ipywidgets as widgets\n",
    "import IPython.display as display\n",
    "\n",
    "def plot_images_from_class(cls, n=5):\n",
    "    print(cls)\n",
    "    current_dir = combined_base_dir / 'train' / (cls)\n",
    "    all_image_paths = [f for f in current_dir.iterdir()]\n",
    "    n_image_paths = np.random.choice(all_image_paths, n, replace=False)\n",
    "    file_objs = [open(path, 'rb').read() for path in n_image_paths]\n",
    "    im_widgets = [widgets.Image(value=f, format='jpg', width=150, height=150) for f in file_objs]\n",
    "    side_by_side = widgets.HBox(im_widgets)\n",
    "    display.display(side_by_side)\n",
    "\n",
    "for cls in class_list:\n",
    "    #plot_images_from_class(cls)  # Don't commit this output to repo!\n",
    "    pass"
   ],
   "metadata": {
    "collapsed": false,
    "pycharm": {
     "name": "#%%\n"
    }
   }
  },
  {
   "cell_type": "markdown",
   "source": [
    "### Performance metrics for majority vote baseline"
   ],
   "metadata": {
    "collapsed": false,
    "pycharm": {
     "name": "#%% md\n"
    }
   }
  },
  {
   "cell_type": "code",
   "execution_count": 5,
   "outputs": [],
   "source": [
    "predicted = ['None of the above' for _ in val_set['y']]\n",
    "trues = val_set['y'].values"
   ],
   "metadata": {
    "collapsed": false,
    "pycharm": {
     "name": "#%%\n"
    }
   }
  },
  {
   "cell_type": "code",
   "execution_count": 6,
   "outputs": [
    {
     "data": {
      "text/plain": "<Figure size 432x288 with 2 Axes>",
      "image/png": "[encoded data removed]"
     },
     "metadata": {
      "needs_background": "light"
     },
     "output_type": "display_data"
    }
   ],
   "source": [
    "from sklearn.metrics import confusion_matrix, ConfusionMatrixDisplay\n",
    "confusion = confusion_matrix(trues, predicted)\n",
    "#df(confusion, columns=[cls[:8] for cls in class_list], index=class_list)\n",
    "disp = ConfusionMatrixDisplay(confusion_matrix=confusion,                               display_labels=class_list)\n",
    "_ = disp.plot(cmap='Greys', xticks_rotation='vertical')\n"
   ],
   "metadata": {
    "collapsed": false,
    "pycharm": {
     "name": "#%%\n"
    }
   }
  },
  {
   "cell_type": "code",
   "execution_count": 7,
   "outputs": [
    {
     "name": "stdout",
     "output_type": "stream",
     "text": [
      "accuracy_score 0.356\n",
      "recall_score [0. 0. 0. 0. 0. 1. 0. 0.]\n",
      "precision_score [0.    0.    0.    0.    0.    0.356 0.    0.   ]\n",
      "f1_score [0.         0.         0.         0.         0.         0.52507375\n",
      " 0.         0.        ]\n",
      "krippendorff.alpha -0.20868584778964472\n"
     ]
    },
    {
     "name": "stderr",
     "output_type": "stream",
     "text": [
      "C:\\Users\\ChristiaanMeijer\\anaconda3\\envs\\robot\\lib\\site-packages\\sklearn\\metrics\\_classification.py:1327: UndefinedMetricWarning: Precision is ill-defined and being set to 0.0 in labels with no predicted samples. Use `zero_division` parameter to control this behavior.\n",
      "  _warn_prf(average, modifier, msg_start, len(result))\n"
     ]
    }
   ],
   "source": [
    "from utils import print_performance_metrics\n",
    "\n",
    "print_performance_metrics(trues, predicted, class_list)\n"
   ],
   "metadata": {
    "collapsed": false,
    "pycharm": {
     "name": "#%%\n"
    }
   }
  }
 ],
 "metadata": {
  "kernelspec": {
   "display_name": "Python 3 (ipykernel)",
   "language": "python",
   "name": "python3"
  },
  "language_info": {
   "codemirror_mode": {
    "name": "ipython",
    "version": 3
   },
   "file_extension": ".py",
   "mimetype": "text/x-python",
   "name": "python",
   "nbconvert_exporter": "python",
   "pygments_lexer": "ipython3",
   "version": "3.9.0"
  }
 },
 "nbformat": 4,
 "nbformat_minor": 1
}