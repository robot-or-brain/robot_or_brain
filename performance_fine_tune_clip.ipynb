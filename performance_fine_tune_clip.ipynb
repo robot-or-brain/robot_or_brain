{
 "cells": [
  {
   "cell_type": "code",
   "execution_count": 1,
   "metadata": {
    "pycharm": {
     "name": "#%%\n"
    }
   },
   "outputs": [],
   "source": [
    "import numpy as np\n",
    "import pandas as pd\n",
    "from pandas import DataFrame as df\n",
    "import tensorflow as tf"
   ]
  },
  {
   "cell_type": "markdown",
   "metadata": {
    "pycharm": {
     "name": "#%% md\n"
    }
   },
   "source": [
    "### Load validation set in tensorflow format"
   ]
  },
  {
   "cell_type": "code",
   "execution_count": 2,
   "metadata": {
    "pycharm": {
     "name": "#%%\n"
    }
   },
   "outputs": [
    {
     "name": "stdout",
     "output_type": "stream",
     "text": [
      "Loaded 750 instances from ../robot_or_brain_combined_data/validation.pk.\n",
      "X shape (750, 512) and y shape (750,) with labels:\n",
      "None of the above                  267\n",
      "Acting or Performing machine       168\n",
      "Collaborative or Interactive AI    109\n",
      "Thinking machine                    94\n",
      "Complex AI                          87\n",
      "Mysterious AI                       13\n",
      "Superior human                       8\n",
      "Learning or recognition machine      4\n",
      "Name: y, dtype: int64.\n"
     ]
    }
   ],
   "source": [
    "def load_dataset(path):\n",
    "    data = pd.read_pickle(path)\n",
    "    n_features = data['clip_features'][0].shape[-1]\n",
    "    class_names = data['y'].unique()\n",
    "    y = np.array([np.where(class_names == e)[0][0] for e in data['y']])\n",
    "    x = np.concatenate(data['clip_features'].to_numpy())\n",
    "    print(f'Loaded {len(x)} instances from {path}.')\n",
    "    print(f'X shape {x.shape} and y shape {y.shape} with labels:\\n{data[\"y\"].value_counts()}.')\n",
    "    train_ds = tf.data.Dataset.from_tensor_slices((x, y)).batch(16)\n",
    "    return train_ds, class_names, n_features\n",
    "\n",
    "\n",
    "validation_ds, class_names, n_features = load_dataset('../robot_or_brain_combined_data/validation.pk')\n"
   ]
  },
  {
   "cell_type": "code",
   "execution_count": 3,
   "metadata": {
    "pycharm": {
     "name": "#%%\n"
    }
   },
   "outputs": [],
   "source": [
    "class_list = class_names"
   ]
  },
  {
   "cell_type": "code",
   "execution_count": 4,
   "metadata": {
    "pycharm": {
     "name": "#%%\n"
    }
   },
   "outputs": [],
   "source": [
    "trues = [class_list[int(y)] for _x, y in validation_ds.unbatch()]"
   ]
  },
  {
   "cell_type": "markdown",
   "metadata": {
    "pycharm": {
     "name": "#%% md\n"
    }
   },
   "source": [
    "### Print class counts for each split"
   ]
  },
  {
   "cell_type": "code",
   "execution_count": 5,
   "metadata": {
    "pycharm": {
     "name": "#%%\n"
    }
   },
   "outputs": [
    {
     "data": {
      "text/plain": "None of the above                  267\nActing or Performing machine       168\nCollaborative or Interactive AI    109\nThinking machine                    94\nComplex AI                          87\nMysterious AI                       13\nSuperior human                       8\nLearning or recognition machine      4\ndtype: int64"
     },
     "execution_count": 5,
     "metadata": {},
     "output_type": "execute_result"
    }
   ],
   "source": [
    "df([y for y in trues]).value_counts()"
   ]
  },
  {
   "cell_type": "markdown",
   "metadata": {
    "pycharm": {
     "name": "#%% md\n"
    }
   },
   "source": [
    "Some of these counts are horrible. The number of examples in 'Learning or recognition machine', 'Superior human' and 'Mysterious AI' are really too small. Also, the 'None of the above' class is very large, although that's not really a problem."
   ]
  },
  {
   "cell_type": "markdown",
   "metadata": {
    "pycharm": {
     "name": "#%% md\n"
    }
   },
   "source": [
    "### Load our trained model"
   ]
  },
  {
   "cell_type": "code",
   "execution_count": 6,
   "metadata": {
    "pycharm": {
     "name": "#%%\n"
    }
   },
   "outputs": [],
   "source": [
    "import tensorflow as tf\n",
    "\n",
    "# model = tf.keras.models.load_model('./fine_tuned_model_3m6herki')\n",
    "# model = tf.keras.models.load_model('./fine_tuned_model_3f0vzk68')\n",
    "# model = tf.keras.models.load_model('./fine_tuned_model_qdesgan9')\n",
    "model = tf.keras.models.load_model('./clip_features_model_kuw3ehqp')"
   ]
  },
  {
   "cell_type": "markdown",
   "metadata": {
    "pycharm": {
     "name": "#%% md\n"
    }
   },
   "source": [
    "### Make predictions"
   ]
  },
  {
   "cell_type": "code",
   "execution_count": 7,
   "metadata": {
    "pycharm": {
     "name": "#%%\n"
    }
   },
   "outputs": [
    {
     "name": "stdout",
     "output_type": "stream",
     "text": [
      "47/47 [==============================] - 0s 3ms/step\n",
      "None of the above                  376\n",
      "Acting or Performing machine       106\n",
      "Thinking machine                    96\n",
      "Complex AI                          89\n",
      "Collaborative or Interactive AI     70\n",
      "Superior human                      11\n",
      "Mysterious AI                        2\n",
      "dtype: int64\n",
      "None of the above                  267\n",
      "Acting or Performing machine       168\n",
      "Collaborative or Interactive AI    109\n",
      "Thinking machine                    94\n",
      "Complex AI                          87\n",
      "Mysterious AI                       13\n",
      "Superior human                       8\n",
      "Learning or recognition machine      4\n",
      "dtype: int64\n"
     ]
    }
   ],
   "source": [
    "logits = model.predict(validation_ds)\n",
    "predicted = [class_list[v] for v in np.argmax(logits, 1)]\n",
    "from pandas import DataFrame as df\n",
    "\n",
    "print(df(predicted).value_counts())\n",
    "print(df(trues).value_counts())"
   ]
  },
  {
   "cell_type": "markdown",
   "metadata": {
    "pycharm": {
     "name": "#%% md\n"
    }
   },
   "source": [
    "### Performance metrics for CLIP features based classifier"
   ]
  },
  {
   "cell_type": "code",
   "execution_count": 8,
   "metadata": {
    "pycharm": {
     "name": "#%%\n"
    }
   },
   "outputs": [
    {
     "data": {
      "text/plain": "<Figure size 432x288 with 2 Axes>",
      "image/png": "[encoded data removed]"
     },
     "metadata": {
      "needs_background": "light"
     },
     "output_type": "display_data"
    }
   ],
   "source": [
    "from sklearn.metrics import confusion_matrix, ConfusionMatrixDisplay\n",
    "\n",
    "confusion = confusion_matrix(trues, predicted)\n",
    "disp = ConfusionMatrixDisplay(confusion_matrix=confusion, display_labels=class_list)\n",
    "_ = disp.plot(cmap='Greys', xticks_rotation='vertical')\n"
   ]
  },
  {
   "cell_type": "code",
   "execution_count": 9,
   "metadata": {
    "pycharm": {
     "name": "#%%\n"
    }
   },
   "outputs": [
    {
     "name": "stderr",
     "output_type": "stream",
     "text": [
      "C:\\Users\\ChristiaanMeijer\\anaconda3\\envs\\robot\\lib\\site-packages\\sklearn\\metrics\\_classification.py:1327: UndefinedMetricWarning: Precision is ill-defined and being set to 0.0 in labels with no predicted samples. Use `zero_division` parameter to control this behavior.\n",
      "  _warn_prf(average, modifier, msg_start, len(result))\n"
     ]
    },
    {
     "data": {
      "text/plain": "                                 recall  precision    f1\nActing or Performing machine       0.57       0.90  0.69\nCollaborative or Interactive AI    0.48       0.74  0.58\nComplex AI                         0.66       0.64  0.65\nLearning or recognition machine    0.00       0.00  0.00\nMysterious AI                      0.15       1.00  0.27\nNone of the above                  0.90       0.64  0.74\nSuperior human                     0.62       0.45  0.53\nThinking machine                   0.83       0.81  0.82",
      "text/html": "<div>\n<style scoped>\n    .dataframe tbody tr th:only-of-type {\n        vertical-align: middle;\n    }\n\n    .dataframe tbody tr th {\n        vertical-align: top;\n    }\n\n    .dataframe thead th {\n        text-align: right;\n    }\n</style>\n<table border=\"1\" class=\"dataframe\">\n  <thead>\n    <tr style=\"text-align: right;\">\n      <th></th>\n      <th>recall</th>\n      <th>precision</th>\n      <th>f1</th>\n    </tr>\n  </thead>\n  <tbody>\n    <tr>\n      <th>Acting or Performing machine</th>\n      <td>0.57</td>\n      <td>0.90</td>\n      <td>0.69</td>\n    </tr>\n    <tr>\n      <th>Collaborative or Interactive AI</th>\n      <td>0.48</td>\n      <td>0.74</td>\n      <td>0.58</td>\n    </tr>\n    <tr>\n      <th>Complex AI</th>\n      <td>0.66</td>\n      <td>0.64</td>\n      <td>0.65</td>\n    </tr>\n    <tr>\n      <th>Learning or recognition machine</th>\n      <td>0.00</td>\n      <td>0.00</td>\n      <td>0.00</td>\n    </tr>\n    <tr>\n      <th>Mysterious AI</th>\n      <td>0.15</td>\n      <td>1.00</td>\n      <td>0.27</td>\n    </tr>\n    <tr>\n      <th>None of the above</th>\n      <td>0.90</td>\n      <td>0.64</td>\n      <td>0.74</td>\n    </tr>\n    <tr>\n      <th>Superior human</th>\n      <td>0.62</td>\n      <td>0.45</td>\n      <td>0.53</td>\n    </tr>\n    <tr>\n      <th>Thinking machine</th>\n      <td>0.83</td>\n      <td>0.81</td>\n      <td>0.82</td>\n    </tr>\n  </tbody>\n</table>\n</div>"
     },
     "metadata": {},
     "output_type": "display_data"
    },
    {
     "data": {
      "text/plain": "                    score\naccuracy             0.70\nkrippendorff alpha   0.56",
      "text/html": "<div>\n<style scoped>\n    .dataframe tbody tr th:only-of-type {\n        vertical-align: middle;\n    }\n\n    .dataframe tbody tr th {\n        vertical-align: top;\n    }\n\n    .dataframe thead th {\n        text-align: right;\n    }\n</style>\n<table border=\"1\" class=\"dataframe\">\n  <thead>\n    <tr style=\"text-align: right;\">\n      <th></th>\n      <th>score</th>\n    </tr>\n  </thead>\n  <tbody>\n    <tr>\n      <th>accuracy</th>\n      <td>0.70</td>\n    </tr>\n    <tr>\n      <th>krippendorff alpha</th>\n      <td>0.56</td>\n    </tr>\n  </tbody>\n</table>\n</div>"
     },
     "metadata": {},
     "output_type": "display_data"
    }
   ],
   "source": [
    "from utils import display_performance_metrics\n",
    "\n",
    "display_performance_metrics(trues, predicted, list(class_list))\n"
   ]
  }
 ],
 "metadata": {
  "kernelspec": {
   "display_name": "robot",
   "language": "python",
   "name": "robot"
  },
  "language_info": {
   "codemirror_mode": {
    "name": "ipython",
    "version": 3
   },
   "file_extension": ".py",
   "mimetype": "text/x-python",
   "name": "python",
   "nbconvert_exporter": "python",
   "pygments_lexer": "ipython3",
   "version": "3.9.0"
  }
 },
 "nbformat": 4,
 "nbformat_minor": 1
}